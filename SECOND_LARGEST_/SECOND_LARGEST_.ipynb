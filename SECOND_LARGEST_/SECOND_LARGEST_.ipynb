{
  "nbformat": 4,
  "nbformat_minor": 0,
  "metadata": {
    "colab": {
      "provenance": [],
      "authorship_tag": "ABX9TyPlLoFFSZqdUq5Rb1xkaEss",
      "include_colab_link": true
    },
    "kernelspec": {
      "name": "python3",
      "display_name": "Python 3"
    },
    "language_info": {
      "name": "python"
    }
  },
  "cells": [
    {
      "cell_type": "markdown",
      "metadata": {
        "id": "view-in-github",
        "colab_type": "text"
      },
      "source": [
        "<a href=\"https://colab.research.google.com/github/manishashetty29/Python/blob/main/SECOND_LARGEST_/SECOND_LARGEST_.ipynb\" target=\"_parent\"><img src=\"https://colab.research.google.com/assets/colab-badge.svg\" alt=\"Open In Colab\"/></a>"
      ]
    },
    {
      "cell_type": "code",
      "execution_count": 1,
      "metadata": {
        "colab": {
          "base_uri": "https://localhost:8080/"
        },
        "id": "Lyx7bTFA9UE6",
        "outputId": "1b87af52-bd80-46c7-970f-037c40b1cc09"
      },
      "outputs": [
        {
          "output_type": "stream",
          "name": "stdout",
          "text": [
            "read 3 nos and check second largest number\n",
            "a enter num:10\n",
            "b enter num:10\n",
            "c enter num:20\n",
            "a is second\n"
          ]
        }
      ],
      "source": [
        "# receiving 3 no as input\n",
        "print(\"read 3 nos and check second largest number\")\n",
        "a = int(input(\"a enter num:\"))\n",
        "b = int(input(\"b enter num:\"))\n",
        "c = int(input(\"c enter num:\"))\n",
        "\n",
        "if (a >= b and a<= c) :\n",
        "    print(\"a is second\")\n",
        "elif (b >=a and b <=c):\n",
        "    print(\"b is second\")\n",
        "else:\n",
        "    print(\"c is second\")"
      ]
    }
  ]
}