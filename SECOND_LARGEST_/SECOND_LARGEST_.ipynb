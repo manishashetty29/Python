{
  "nbformat": 4,
  "nbformat_minor": 0,
  "metadata": {
    "colab": {
      "provenance": [],
      "include_colab_link": true
    },
    "kernelspec": {
      "name": "python3",
      "display_name": "Python 3"
    },
    "language_info": {
      "name": "python"
    }
  },
  "cells": [
    {
      "cell_type": "markdown",
      "metadata": {
        "id": "view-in-github",
        "colab_type": "text"
      },
      "source": [
        "<a href=\"https://colab.research.google.com/github/manishashetty29/Python/blob/main/SECOND_LARGEST_/SECOND_LARGEST_.ipynb\" target=\"_parent\"><img src=\"https://colab.research.google.com/assets/colab-badge.svg\" alt=\"Open In Colab\"/></a>"
      ]
    },
    {
      "cell_type": "code",
      "execution_count": 1,
      "metadata": {
        "colab": {
          "base_uri": "https://localhost:8080/"
        },
        "id": "Lyx7bTFA9UE6",
        "outputId": "0db083a5-c9c0-49be-c105-47c952bdc2c7"
      },
      "outputs": [
        {
          "output_type": "stream",
          "name": "stdout",
          "text": [
            "enter the num110\n",
            "entert the num220\n",
            "enter the num330\n",
            "second largest no 20\n"
          ]
        }
      ],
      "source": [
        "a=int(input(\"enter the num1\"))\n",
        "b=int(input(\"entert the num2\"))\n",
        "c= int(input(\"enter the num3\"))\n",
        "if(a>b and a<c) or(a<b and a>c) :\n",
        "    print(\"second largest no\", a)\n",
        "elif(b>a and b<c) or (b<a and b>c):\n",
        "    print(\"second largest no\", b)\n",
        "else:\n",
        "    print(\"invaled\")"
      ]
    },
    {
      "cell_type": "code",
      "source": [],
      "metadata": {
        "id": "_sKuHaXvOhjq"
      },
      "execution_count": null,
      "outputs": []
    }
  ]
}