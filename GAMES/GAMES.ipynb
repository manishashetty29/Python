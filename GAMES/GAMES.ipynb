{
  "nbformat": 4,
  "nbformat_minor": 0,
  "metadata": {
    "colab": {
      "provenance": [],
      "authorship_tag": "ABX9TyOn99IQpg9nC45iZTP3wwDF",
      "include_colab_link": true
    },
    "kernelspec": {
      "name": "python3",
      "display_name": "Python 3"
    },
    "language_info": {
      "name": "python"
    }
  },
  "cells": [
    {
      "cell_type": "markdown",
      "metadata": {
        "id": "view-in-github",
        "colab_type": "text"
      },
      "source": [
        "<a href=\"https://colab.research.google.com/github/manishashetty29/Python/blob/main/GAMES/GAMES.ipynb\" target=\"_parent\"><img src=\"https://colab.research.google.com/assets/colab-badge.svg\" alt=\"Open In Colab\"/></a>"
      ]
    },
    {
      "cell_type": "code",
      "execution_count": 2,
      "metadata": {
        "colab": {
          "base_uri": "https://localhost:8080/"
        },
        "id": "5mHMY9Grulcf",
        "outputId": "3ec1c7ab-3176-4086-bc82-21bd7e814f39"
      },
      "outputs": [
        {
          "output_type": "stream",
          "name": "stdout",
          "text": [
            "enter player 1:ram\n",
            "enter player 2:eavi\n",
            "computer has fixed 5 nums in range of 1 to 10\n",
            "you guys have to guess it.......Ready?\n",
            "------\n",
            "----round1----\n",
            "Dear ram guess ur choice\n",
            "1\n",
            "----->> CORRECT\n",
            "Dear eavi guess ur choice\n",
            "1\n",
            "aldrady taken choose any other:2\n",
            "----->> WRONG\n",
            "----round2----\n",
            "Dear ram guess ur choice\n",
            "3\n",
            "----->> WRONG\n",
            "Dear eavi guess ur choice\n",
            "3\n",
            "aldrady taken choose any other:3\n",
            "aldrady taken choose any other:4\n",
            "----->> CORRECT\n",
            "----round3----\n",
            "Dear ram guess ur choice\n",
            "5\n",
            "----->> WRONG\n",
            "Dear eavi guess ur choice\n",
            "9\n",
            "----->> WRONG\n",
            "lets know the summary\n",
            "Computer has chosen:  [7, 4, 1, 8, 10]\n",
            "ram has chosen: [1, 3, 5]\n",
            "ram scored: 1\n",
            "eavi has chosen: [2, 4, 9]\n",
            "eavi scored: 1\n",
            "It's a tie! Well played both!\n"
          ]
        }
      ],
      "source": [
        "import random\n",
        "name1 = (input(\"enter player 1:\"))\n",
        "name2 = (input(\"enter player 2:\"))\n",
        "print('computer has fixed 5 nums in range of 1 to 10')\n",
        "print(\"you guys have to guess it.......Ready?\")\n",
        "nums=[]\n",
        "while (len(nums)!=5):\n",
        "    d = random.randint(1,10)\n",
        "    if(d not in nums):\n",
        "        nums.append(d)\n",
        "print(\"------\")\n",
        "s1 = 0\n",
        "s2 = 0\n",
        "player1 = []\n",
        "player2 = []\n",
        "for i in range(3):\n",
        "    print(\"----round{}----\".format(i+1))\n",
        "    print(\"Dear {} guess ur choice\".format(name1))\n",
        "    ch = int(input())\n",
        "    while (ch in player1 or ch in player2):\n",
        "        ch = int(input(\"aldrady taken choose any other:\"))\n",
        "    player1.append(ch)\n",
        "    if(ch in nums):\n",
        "        print(\"----->> CORRECT\")\n",
        "        s1 = s1 + 1\n",
        "    else:\n",
        "        print(\"----->> WRONG\")\n",
        "\n",
        "    print(\"Dear {} guess ur choice\".format(name2))\n",
        "    ch = int(input())\n",
        "    while (ch in player1 or ch in player2):\n",
        "        ch = int(input(\"aldrady taken choose any other:\"))\n",
        "    player2.append(ch)\n",
        "    if(ch in nums):\n",
        "        print(\"----->> CORRECT\")\n",
        "        s2 = s2 + 1\n",
        "    else:\n",
        "        print(\"----->> WRONG\")\n",
        "\n",
        "print(\"lets know the summary\")\n",
        "print(\"Computer has chosen: \", nums)\n",
        "print(\"{} has chosen: {}\".format(name1, player1))\n",
        "print(\"{} scored: {}\".format(name1, s1))\n",
        "print(\"{} has chosen: {}\".format(name2, player2))\n",
        "print(\"{} scored: {}\".format(name2, s2))\n",
        "\n",
        "if s1 > s2:\n",
        "    print(\"{} wins!\".format(name1))\n",
        "elif s2 > s1:\n",
        "    print(\"{} wins!\".format(name2))\n",
        "else:\n",
        "    print(\"It's a tie! Well played both!\")"
      ]
    },
    {
      "cell_type": "code",
      "source": [],
      "metadata": {
        "id": "qfE9SLVRumwV"
      },
      "execution_count": null,
      "outputs": []
    }
  ]
}