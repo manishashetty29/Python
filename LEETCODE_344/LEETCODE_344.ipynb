{
  "nbformat": 4,
  "nbformat_minor": 0,
  "metadata": {
    "colab": {
      "provenance": [],
      "authorship_tag": "ABX9TyMnep8R5jBJpVLRIjLLS9Sv",
      "include_colab_link": true
    },
    "kernelspec": {
      "name": "python3",
      "display_name": "Python 3"
    },
    "language_info": {
      "name": "python"
    }
  },
  "cells": [
    {
      "cell_type": "markdown",
      "metadata": {
        "id": "view-in-github",
        "colab_type": "text"
      },
      "source": [
        "<a href=\"https://colab.research.google.com/github/manishashetty29/Python/blob/main/LEETCODE_344/LEETCODE_344.ipynb\" target=\"_parent\"><img src=\"https://colab.research.google.com/assets/colab-badge.svg\" alt=\"Open In Colab\"/></a>"
      ]
    },
    {
      "cell_type": "code",
      "execution_count": 1,
      "metadata": {
        "id": "cSr7cTJXbl_y"
      },
      "outputs": [],
      "source": [
        "class Solution:\n",
        "    def reverseString(self, s):\n",
        "        l=0\n",
        "        r=len(s)-1\n",
        "        while(l<r):\n",
        "            s[l],s[r]=s[r],s[l]\n",
        "            l=l+1\n",
        "            r=r-1\n",
        "        return s\n",
        ""
      ]
    },
    {
      "cell_type": "code",
      "source": [],
      "metadata": {
        "id": "4kyxs2pUcImH"
      },
      "execution_count": null,
      "outputs": []
    }
  ]
}