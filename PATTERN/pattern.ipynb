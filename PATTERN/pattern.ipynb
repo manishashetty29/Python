{
  "nbformat": 4,
  "nbformat_minor": 0,
  "metadata": {
    "colab": {
      "provenance": [],
      "authorship_tag": "ABX9TyPkbY40OoodbRHIM5DMbyid",
      "include_colab_link": true
    },
    "kernelspec": {
      "name": "python3",
      "display_name": "Python 3"
    },
    "language_info": {
      "name": "python"
    }
  },
  "cells": [
    {
      "cell_type": "markdown",
      "metadata": {
        "id": "view-in-github",
        "colab_type": "text"
      },
      "source": [
        "<a href=\"https://colab.research.google.com/github/manishashetty29/Python/blob/main/pattern.ipynb\" target=\"_parent\"><img src=\"https://colab.research.google.com/assets/colab-badge.svg\" alt=\"Open In Colab\"/></a>"
      ]
    },
    {
      "cell_type": "code",
      "execution_count": 2,
      "metadata": {
        "colab": {
          "base_uri": "https://localhost:8080/"
        },
        "id": "gEWwfdx6GHjy",
        "outputId": "d3086487-a5f1-4d3a-db54-eeaeb2c59488"
      },
      "outputs": [
        {
          "output_type": "stream",
          "name": "stdout",
          "text": [
            "* * * * * * * * * * \n",
            "*                 *\n",
            "*                 *\n",
            "*                 *\n",
            "*                 *\n",
            "*                 *\n",
            "*                 *\n",
            "*                 *\n",
            "*                 *\n",
            "*                 *\n",
            "*                 *\n",
            "* * * * * * * * * * "
          ]
        }
      ],
      "source": [
        "for i in range(10):\n",
        "    print('*',end=\" \")\n",
        "print()\n",
        "for i in range(10):\n",
        "     print(\"*                 *\")\n",
        "for i in range(10):\n",
        "     print(\"*\",end=\" \")"
      ]
    },
    {
      "cell_type": "code",
      "source": [],
      "metadata": {
        "id": "NGMV8-6iGJtV"
      },
      "execution_count": null,
      "outputs": []
    }
  ]
}