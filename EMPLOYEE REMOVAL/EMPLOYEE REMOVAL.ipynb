{
  "nbformat": 4,
  "nbformat_minor": 0,
  "metadata": {
    "colab": {
      "provenance": [],
      "authorship_tag": "ABX9TyNLH1Y96EBcbP1XvCQfhjz0",
      "include_colab_link": true
    },
    "kernelspec": {
      "name": "python3",
      "display_name": "Python 3"
    },
    "language_info": {
      "name": "python"
    }
  },
  "cells": [
    {
      "cell_type": "markdown",
      "metadata": {
        "id": "view-in-github",
        "colab_type": "text"
      },
      "source": [
        "<a href=\"https://colab.research.google.com/github/manishashetty29/Python/blob/main/EMPLOYEE%20REMOVAL/EMPLOYEE%20REMOVAL.ipynb\" target=\"_parent\"><img src=\"https://colab.research.google.com/assets/colab-badge.svg\" alt=\"Open In Colab\"/></a>"
      ]
    },
    {
      "cell_type": "code",
      "execution_count": 13,
      "metadata": {
        "colab": {
          "base_uri": "https://localhost:8080/"
        },
        "id": "D0lt_5A89Mgh",
        "outputId": "6ca28320-0858-4cb2-a80a-4480bd54a75f"
      },
      "outputs": [
        {
          "output_type": "stream",
          "name": "stdout",
          "text": [
            "0. D: Memo 1: Salary 4500\n",
            "1. F: Memo 2: Salary 5000\n",
            "2. H: Memo 2: Salary 2300\n",
            "3. E: Memo 2: Salary 2000\n",
            "4. J: Memo 2: Salary 1100\n"
          ]
        }
      ],
      "source": [
        "del list\n",
        "name = [\"A\", \"B\", \"C\", \"D\", \"E\", \"F\", \"G\", \"H\", \"I\", \"J\"]\n",
        "memo = [0, 1, 1, 1, 2, 2, 1, 2, 1, 2]\n",
        "salary = [1000, 2000, 3000, 4500, 2000, 5000, 1500, 2300, 1300, 1100]\n",
        "\n",
        "res = list(zip(salary, memo, name))\n",
        "remove = []\n",
        "remove2 = []\n",
        "\n",
        "# Remove those with salary > 4000\n",
        "for i in res:\n",
        "    if i[0] > 4000:\n",
        "        remove.append(i)\n",
        "\n",
        "# Remaining salary < 4000\n",
        "remaining = [i for i in res if i[0] < 4000]\n",
        "\n",
        "# Sort remaining by salary descending\n",
        "a = sorted(remaining, key=lambda x: x[0], reverse=True)\n",
        "\n",
        "# Pick top with memo >= 2\n",
        "for i in a:\n",
        "    if i[1] >= 2:\n",
        "        remove2.append(i)\n",
        "    if len(remove2) > 3:\n",
        "        break\n",
        "\n",
        "final = remove + remove2\n",
        "\n",
        "# Output\n",
        "index = 0\n",
        "for i in final:\n",
        "    print(\"{}. {}: Memo {}: Salary {}\".format(index, i[2], i[1], i[0]))\n",
        "    index += 1\n"
      ]
    },
    {
      "cell_type": "code",
      "source": [],
      "metadata": {
        "id": "io74Afp99OFY"
      },
      "execution_count": 3,
      "outputs": []
    }
  ]
}