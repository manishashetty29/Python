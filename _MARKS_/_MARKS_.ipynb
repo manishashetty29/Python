{
  "nbformat": 4,
  "nbformat_minor": 0,
  "metadata": {
    "colab": {
      "provenance": [],
      "authorship_tag": "ABX9TyMR7RT2HuNW+PsYHRyzfl3c",
      "include_colab_link": true
    },
    "kernelspec": {
      "name": "python3",
      "display_name": "Python 3"
    },
    "language_info": {
      "name": "python"
    }
  },
  "cells": [
    {
      "cell_type": "markdown",
      "metadata": {
        "id": "view-in-github",
        "colab_type": "text"
      },
      "source": [
        "<a href=\"https://colab.research.google.com/github/manishashetty29/Python/blob/main/_MARKS_/_MARKS_.ipynb\" target=\"_parent\"><img src=\"https://colab.research.google.com/assets/colab-badge.svg\" alt=\"Open In Colab\"/></a>"
      ]
    },
    {
      "cell_type": "code",
      "execution_count": 2,
      "metadata": {
        "colab": {
          "base_uri": "https://localhost:8080/"
        },
        "id": "3Y5KjqPz-UBj",
        "outputId": "ac3469f5-45ed-4d91-89d7-30dc6441da34"
      },
      "outputs": [
        {
          "output_type": "stream",
          "name": "stdout",
          "text": [
            "a enter marks:90\n",
            "a enter marks:110\n",
            "a enter marks:80\n",
            "a enter marks:40\n",
            "a enter marks:0\n",
            "sum is = 210\n"
          ]
        }
      ],
      "source": [
        "sum = 0\n",
        "while True:\n",
        "    a = int(input(\"a enter marks:\"))\n",
        "    if a == 0:\n",
        "        break\n",
        "    if a <= 100:\n",
        "        sum += a\n",
        "print(\"sum is =\",sum)"
      ]
    },
    {
      "cell_type": "code",
      "source": [],
      "metadata": {
        "id": "vkrzKboU-efn"
      },
      "execution_count": null,
      "outputs": []
    }
  ]
}