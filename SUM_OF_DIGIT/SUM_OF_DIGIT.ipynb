{
  "nbformat": 4,
  "nbformat_minor": 0,
  "metadata": {
    "colab": {
      "provenance": [],
      "authorship_tag": "ABX9TyMPGy97p4nSp8KZ4ZiEeYqw",
      "include_colab_link": true
    },
    "kernelspec": {
      "name": "python3",
      "display_name": "Python 3"
    },
    "language_info": {
      "name": "python"
    }
  },
  "cells": [
    {
      "cell_type": "markdown",
      "metadata": {
        "id": "view-in-github",
        "colab_type": "text"
      },
      "source": [
        "<a href=\"https://colab.research.google.com/github/manishashetty29/Python/blob/main/SUM_OF_DIGIT/SUM_OF_DIGIT.ipynb\" target=\"_parent\"><img src=\"https://colab.research.google.com/assets/colab-badge.svg\" alt=\"Open In Colab\"/></a>"
      ]
    },
    {
      "cell_type": "code",
      "execution_count": 1,
      "metadata": {
        "colab": {
          "base_uri": "https://localhost:8080/"
        },
        "id": "pQX7oSYyjAxN",
        "outputId": "517f6f22-5113-4e3f-a596-b3c1138aaace"
      },
      "outputs": [
        {
          "output_type": "stream",
          "name": "stdout",
          "text": [
            "enter the no:7\n",
            "1*7=7\n",
            "2*7=14\n",
            "3*7=21\n",
            "4*7=28\n",
            "5*7=35\n",
            "6*7=42\n",
            "7*7=49\n",
            "8*7=56\n",
            "9*7=63\n",
            "10*7=70\n"
          ]
        }
      ],
      "source": [
        "first_no = int(input(\"enter the no:\"))\n",
        "for i in range(1,11):\n",
        "    print(\"{}*{}={}\".format(i,first_no,i*first_no))"
      ]
    },
    {
      "cell_type": "code",
      "source": [],
      "metadata": {
        "id": "WDCfVMNqjDid"
      },
      "execution_count": null,
      "outputs": []
    }
  ]
}