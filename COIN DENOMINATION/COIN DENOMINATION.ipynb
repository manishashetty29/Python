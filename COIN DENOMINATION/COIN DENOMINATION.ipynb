{
  "nbformat": 4,
  "nbformat_minor": 0,
  "metadata": {
    "colab": {
      "provenance": [],
      "authorship_tag": "ABX9TyMXtAqsyWUUcDXQYtQG6MyG",
      "include_colab_link": true
    },
    "kernelspec": {
      "name": "python3",
      "display_name": "Python 3"
    },
    "language_info": {
      "name": "python"
    }
  },
  "cells": [
    {
      "cell_type": "markdown",
      "metadata": {
        "id": "view-in-github",
        "colab_type": "text"
      },
      "source": [
        "<a href=\"https://colab.research.google.com/github/manishashetty29/Python/blob/main/COIN%20DENOMINATION/COIN%20DENOMINATION.ipynb\" target=\"_parent\"><img src=\"https://colab.research.google.com/assets/colab-badge.svg\" alt=\"Open In Colab\"/></a>"
      ]
    },
    {
      "cell_type": "code",
      "execution_count": 1,
      "metadata": {
        "colab": {
          "base_uri": "https://localhost:8080/"
        },
        "id": "EZkEg6lg8mk8",
        "outputId": "ddb1f1ad-1ce9-4aa9-c688-3d8785f8410c"
      },
      "outputs": [
        {
          "output_type": "stream",
          "name": "stdout",
          "text": [
            "Enter your amount: 1600\n",
            "500 500 500 100 "
          ]
        }
      ],
      "source": [
        "a = int(input(\"Enter your amount: \"))\n",
        "a1 = [1, 2, 5, 10, 20, 50, 100, 200, 500]\n",
        "c = sorted(a1, reverse=True)\n",
        "for i in c:\n",
        "    while a >= i:\n",
        "        print(i, end=\" \")\n",
        "        a -= i"
      ]
    },
    {
      "cell_type": "code",
      "source": [],
      "metadata": {
        "id": "jxG14NZr87Ii"
      },
      "execution_count": null,
      "outputs": []
    }
  ]
}