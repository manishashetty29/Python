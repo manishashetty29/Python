{
  "nbformat": 4,
  "nbformat_minor": 0,
  "metadata": {
    "colab": {
      "provenance": [],
      "authorship_tag": "ABX9TyPG8Fus+sS8mW8HRNJciIKD",
      "include_colab_link": true
    },
    "kernelspec": {
      "name": "python3",
      "display_name": "Python 3"
    },
    "language_info": {
      "name": "python"
    }
  },
  "cells": [
    {
      "cell_type": "markdown",
      "metadata": {
        "id": "view-in-github",
        "colab_type": "text"
      },
      "source": [
        "<a href=\"https://colab.research.google.com/github/manishashetty29/Python/blob/main/FLAMES/FLAMES.ipynb\" target=\"_parent\"><img src=\"https://colab.research.google.com/assets/colab-badge.svg\" alt=\"Open In Colab\"/></a>"
      ]
    },
    {
      "cell_type": "code",
      "execution_count": 3,
      "metadata": {
        "colab": {
          "base_uri": "https://localhost:8080/"
        },
        "id": "03zfFyXRq_Ow",
        "outputId": "53f86af8-1bba-424b-a752-a01aefddd9f7"
      },
      "outputs": [
        {
          "output_type": "stream",
          "name": "stdout",
          "text": [
            "enter the boy:ravi\n",
            "enter the girl name:pavi\n",
            "['r', '2', '2', '2']\n",
            "['p', '2', '2', '2']\n",
            "4\n",
            "The reation is  E\n"
          ]
        }
      ],
      "source": [
        "boy = input(\"enter the boy:\")\n",
        "girl = input(\"enter the girl name:\")\n",
        "a1 = list(boy)\n",
        "a2 = list(girl)\n",
        "for i in range(len(a1)):\n",
        "    for j in range(len(a2)):\n",
        "        if(a1[i]==a2[j]):\n",
        "            a1[i]='2'\n",
        "            a2[j]='2'\n",
        "\n",
        "print(a1)\n",
        "print(a2)\n",
        "for i in a1:\n",
        "    if(i=='2'):\n",
        "        a1.remove(i)\n",
        "for i in a2:\n",
        "    if(i=='2'):\n",
        "        a2.remove(i)\n",
        "num = len(a1)+len(a2)\n",
        "print(num)\n",
        "ans = ['F','L','A','M','E','S']\n",
        "index = 0\n",
        "while(len(ans)!=1):\n",
        "    index = (index+(num-1))%len(ans)\n",
        "    ans.pop(index)\n",
        "print(\"The reation is \", ans[0])"
      ]
    },
    {
      "cell_type": "code",
      "source": [],
      "metadata": {
        "id": "sGrbUIQUrss5"
      },
      "execution_count": null,
      "outputs": []
    }
  ]
}