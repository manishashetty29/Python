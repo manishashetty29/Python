{
  "nbformat": 4,
  "nbformat_minor": 0,
  "metadata": {
    "colab": {
      "provenance": [],
      "authorship_tag": "ABX9TyN+8aWtRa/DV6r+cuwztAvZ",
      "include_colab_link": true
    },
    "kernelspec": {
      "name": "python3",
      "display_name": "Python 3"
    },
    "language_info": {
      "name": "python"
    }
  },
  "cells": [
    {
      "cell_type": "markdown",
      "metadata": {
        "id": "view-in-github",
        "colab_type": "text"
      },
      "source": [
        "<a href=\"https://colab.research.google.com/github/manishashetty29/Python/blob/main/LCM_/lcm.ipynb\" target=\"_parent\"><img src=\"https://colab.research.google.com/assets/colab-badge.svg\" alt=\"Open In Colab\"/></a>"
      ]
    },
    {
      "cell_type": "code",
      "execution_count": 2,
      "metadata": {
        "colab": {
          "base_uri": "https://localhost:8080/"
        },
        "id": "hRTUG9sL7ha0",
        "outputId": "450d79f9-7102-4f77-f53e-9e7be0ffcbc9"
      },
      "outputs": [
        {
          "output_type": "stream",
          "name": "stdout",
          "text": [
            "Enter first number: 2\n",
            "Enter second number: 4\n",
            "The LCM of 2 and 4 is 4\n"
          ]
        }
      ],
      "source": [
        "num1 = int(input(\"Enter first number: \"))\n",
        "num2 = int(input(\"Enter second number: \"))\n",
        "if num1 > num2:\n",
        "  greater = num1\n",
        "else:\n",
        "  greater = num2\n",
        "while True:\n",
        "  if greater % num1 == 0 and greater % num2 == 0:\n",
        "    print(\"The LCM of\", num1, \"and\", num2, \"is\", greater)\n",
        "    break\n",
        "  greater += 1"
      ]
    },
    {
      "cell_type": "code",
      "source": [],
      "metadata": {
        "id": "wASgrWH670bn"
      },
      "execution_count": null,
      "outputs": []
    }
  ]
}