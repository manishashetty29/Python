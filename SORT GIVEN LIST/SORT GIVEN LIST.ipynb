{
  "nbformat": 4,
  "nbformat_minor": 0,
  "metadata": {
    "colab": {
      "provenance": [],
      "authorship_tag": "ABX9TyP7csiE3the0lZ6qj/YuhOF",
      "include_colab_link": true
    },
    "kernelspec": {
      "name": "python3",
      "display_name": "Python 3"
    },
    "language_info": {
      "name": "python"
    }
  },
  "cells": [
    {
      "cell_type": "markdown",
      "metadata": {
        "id": "view-in-github",
        "colab_type": "text"
      },
      "source": [
        "<a href=\"https://colab.research.google.com/github/manishashetty29/Python/blob/main/SORT%20GIVEN%20LIST/SORT%20GIVEN%20LIST.ipynb\" target=\"_parent\"><img src=\"https://colab.research.google.com/assets/colab-badge.svg\" alt=\"Open In Colab\"/></a>"
      ]
    },
    {
      "cell_type": "code",
      "execution_count": 1,
      "metadata": {
        "colab": {
          "base_uri": "https://localhost:8080/"
        },
        "id": "lU8hjrgRxBIp",
        "outputId": "cad80e61-cd18-4793-f1eb-09d917d36458"
      },
      "outputs": [
        {
          "output_type": "stream",
          "name": "stdout",
          "text": [
            "[7, 11, 53, 123, 10, 20, 44, 46, 'Zakir', 'anuj', 'bala', 'jack']\n"
          ]
        }
      ],
      "source": [
        "a=[10,11,\"Zakir\",\"bala\",123,44,53,\"anuj\",20,46,7,\"jack\"]\n",
        "a1=[]\n",
        "a2=[]\n",
        "a3=[]\n",
        "for i in a:\n",
        "    if(type(i)==str):\n",
        "        a3.append(i)\n",
        "    elif(i%2==0):\n",
        "        a2.append(i)\n",
        "    elif(i%2==1):\n",
        "        a1.append(i)\n",
        "    a1.sort()\n",
        "    a2.sort()\n",
        "    a3.sort()\n",
        "b = a1+a2+a3\n",
        "print(b)"
      ]
    },
    {
      "cell_type": "code",
      "source": [],
      "metadata": {
        "id": "Sav-0Swbxczf"
      },
      "execution_count": null,
      "outputs": []
    }
  ]
}