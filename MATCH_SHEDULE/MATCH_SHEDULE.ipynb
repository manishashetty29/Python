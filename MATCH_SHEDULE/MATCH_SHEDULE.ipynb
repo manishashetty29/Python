{
  "nbformat": 4,
  "nbformat_minor": 0,
  "metadata": {
    "colab": {
      "provenance": [],
      "authorship_tag": "ABX9TyNoza2IWNDDzFZOY0NqMagU",
      "include_colab_link": true
    },
    "kernelspec": {
      "name": "python3",
      "display_name": "Python 3"
    },
    "language_info": {
      "name": "python"
    }
  },
  "cells": [
    {
      "cell_type": "markdown",
      "metadata": {
        "id": "view-in-github",
        "colab_type": "text"
      },
      "source": [
        "<a href=\"https://colab.research.google.com/github/manishashetty29/Python/blob/main/MATCH_SHEDULE/MATCH_SHEDULE.ipynb\" target=\"_parent\"><img src=\"https://colab.research.google.com/assets/colab-badge.svg\" alt=\"Open In Colab\"/></a>"
      ]
    },
    {
      "cell_type": "code",
      "execution_count": 1,
      "metadata": {
        "colab": {
          "base_uri": "https://localhost:8080/"
        },
        "id": "n2_eBld1sfRB",
        "outputId": "0d874f12-d6e4-402e-a6dc-cf73399f0202"
      },
      "outputs": [
        {
          "output_type": "stream",
          "name": "stdout",
          "text": [
            "Enter the number of teams: 3\n",
            "Enter the name of team 1: ind\n",
            "Enter the name of team 2: aus\n",
            "Enter the name of team 3: pak\n",
            "Enter the number of matches between each pair: 2\n",
            "----------\n",
            "Match 1: ind vs aus\n",
            "Match 2: ind vs aus\n",
            "Match 3: ind vs pak\n",
            "Match 4: ind vs pak\n",
            "Match 5: aus vs pak\n",
            "Match 6: aus vs pak\n"
          ]
        }
      ],
      "source": [
        "num_teams = int(input(\"Enter the number of teams: \"))\n",
        "teams = []\n",
        "for i in range(num_teams):\n",
        "    team_name = input(f\"Enter the name of team {i+1}: \")\n",
        "    teams.append(team_name)\n",
        "meet = int(input(\"Enter the number of matches between each pair: \"))\n",
        "match = []\n",
        "for i in range(num_teams - 1):\n",
        "    for j in range(i + 1, num_teams):\n",
        "        for k in range(meet):\n",
        "            match.append([teams[i], teams[j]])\n",
        "print(\"----------\")\n",
        "index = 1\n",
        "for m in match:\n",
        "    print(f\"Match {index}: {m[0]} vs {m[1]}\")\n",
        "    index += 1"
      ]
    },
    {
      "cell_type": "code",
      "source": [],
      "metadata": {
        "id": "dQ0JaBYds-18"
      },
      "execution_count": null,
      "outputs": []
    }
  ]
}