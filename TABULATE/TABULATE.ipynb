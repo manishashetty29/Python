{
  "nbformat": 4,
  "nbformat_minor": 0,
  "metadata": {
    "colab": {
      "provenance": [],
      "authorship_tag": "ABX9TyOkt08F8P2qVAp51ctVpvT0",
      "include_colab_link": true
    },
    "kernelspec": {
      "name": "python3",
      "display_name": "Python 3"
    },
    "language_info": {
      "name": "python"
    }
  },
  "cells": [
    {
      "cell_type": "markdown",
      "metadata": {
        "id": "view-in-github",
        "colab_type": "text"
      },
      "source": [
        "<a href=\"https://colab.research.google.com/github/manishashetty29/Python/blob/main/TABULATE/TABULATE.ipynb\" target=\"_parent\"><img src=\"https://colab.research.google.com/assets/colab-badge.svg\" alt=\"Open In Colab\"/></a>"
      ]
    },
    {
      "cell_type": "code",
      "execution_count": 1,
      "metadata": {
        "colab": {
          "base_uri": "https://localhost:8080/"
        },
        "id": "X5alxjEA8n8l",
        "outputId": "c590e645-0e63-4f7a-f0ea-f7b831b142ed"
      },
      "outputs": [
        {
          "output_type": "stream",
          "name": "stdout",
          "text": [
            "╒════════╤═══════╤══════════════╕\n",
            "│ name   │   Age │ department   │\n",
            "╞════════╪═══════╪══════════════╡\n",
            "│ Ravi   │    20 │ ISE          │\n",
            "├────────┼───────┼──────────────┤\n",
            "│ pavi   │    21 │ CSE          │\n",
            "├────────┼───────┼──────────────┤\n",
            "│ ram    │    21 │ aiml         │\n",
            "├────────┼───────┼──────────────┤\n",
            "│ mohan  │    21 │ ecc          │\n",
            "├────────┼───────┼──────────────┤\n",
            "│ sita   │    21 │ cv           │\n",
            "╘════════╧═══════╧══════════════╛\n"
          ]
        }
      ],
      "source": [
        "from tabulate import tabulate\n",
        "headers=[\"name\",\"Age\",\"department\"]\n",
        "data=[\n",
        "    [\"Ravi\",\"20\",\"ISE\"],\n",
        "    [\"pavi\",\"21\",\"CSE\"],\n",
        "    [\"ram\",\"21\",\"aiml\"],\n",
        "    [\"mohan\",\"21\",\"ecc\"],\n",
        "    [\"sita\",\"21\",\"cv\"]]\n",
        "print(tabulate(data,headers=headers,tablefmt=\"fancy_grid\"))"
      ]
    },
    {
      "cell_type": "code",
      "source": [
        "from tabulate import tabulate\n",
        "headers=[\"name\",\"Age\",\"department\"]\n",
        "data=[\n",
        "    [\"Ravi\",\"20\",\"ISE\"],\n",
        "    [\"pavi\",\"21\",\"CSE\"],\n",
        "    [\"ram\",\"21\",\"aiml\"],\n",
        "    [\"mohan\",\"21\",\"ecc\"],\n",
        "    [\"sita\",\"21\",\"cv\"]]\n",
        "\n",
        "print(f\"{headers[0]:<12}{headers[1]:<5}{headers[2]:<15}\")\n",
        "print(\"*\" * 30)\n",
        "\n",
        "for row in data:\n",
        "    print(f\"{row[0]:<12}{row[1]:<5}{row[2]:<15}\")\n",
        "    print(\"-\"*30)"
      ],
      "metadata": {
        "colab": {
          "base_uri": "https://localhost:8080/"
        },
        "id": "pUNoriKL-mTl",
        "outputId": "e07ba68d-f9a3-4506-8001-ab29de4f1b8f"
      },
      "execution_count": 2,
      "outputs": [
        {
          "output_type": "stream",
          "name": "stdout",
          "text": [
            "name        Age  department     \n",
            "******************************\n",
            "Ravi        20   ISE            \n",
            "------------------------------\n",
            "pavi        21   CSE            \n",
            "------------------------------\n",
            "ram         21   aiml           \n",
            "------------------------------\n",
            "mohan       21   ecc            \n",
            "------------------------------\n",
            "sita        21   cv             \n",
            "------------------------------\n"
          ]
        }
      ]
    },
    {
      "cell_type": "code",
      "source": [],
      "metadata": {
        "id": "voCsrFEN-5Ks"
      },
      "execution_count": null,
      "outputs": []
    }
  ]
}