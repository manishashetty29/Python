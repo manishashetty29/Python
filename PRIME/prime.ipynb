{
  "nbformat": 4,
  "nbformat_minor": 0,
  "metadata": {
    "colab": {
      "provenance": [],
      "authorship_tag": "ABX9TyNTEe9sgE80kCminhi63qKd",
      "include_colab_link": true
    },
    "kernelspec": {
      "name": "python3",
      "display_name": "Python 3"
    },
    "language_info": {
      "name": "python"
    }
  },
  "cells": [
    {
      "cell_type": "markdown",
      "metadata": {
        "id": "view-in-github",
        "colab_type": "text"
      },
      "source": [
        "<a href=\"https://colab.research.google.com/github/manishashetty29/Python/blob/main/PRIME/prime.ipynb\" target=\"_parent\"><img src=\"https://colab.research.google.com/assets/colab-badge.svg\" alt=\"Open In Colab\"/></a>"
      ]
    },
    {
      "cell_type": "code",
      "execution_count": 1,
      "metadata": {
        "colab": {
          "base_uri": "https://localhost:8080/"
        },
        "id": "C6uCbWK7s3Iu",
        "outputId": "0f4f189f-2307-4532-83db-ef7fc951f994"
      },
      "outputs": [
        {
          "output_type": "stream",
          "name": "stdout",
          "text": [
            "enter any num:4\n",
            "It is not prime\n"
          ]
        }
      ],
      "source": [
        "a = int(input(\"enter any num:\"))\n",
        "c = 0\n",
        "for i in range(2, a):\n",
        "    if (a % i == 0):\n",
        "        c = c + 1\n",
        "if (c == 0):\n",
        "    print(\"It is prime\")\n",
        "else:\n",
        "    print(\"It is not prime\")"
      ]
    },
    {
      "cell_type": "code",
      "source": [],
      "metadata": {
        "id": "SQyCST4d1U9v"
      },
      "execution_count": null,
      "outputs": []
    }
  ]
}