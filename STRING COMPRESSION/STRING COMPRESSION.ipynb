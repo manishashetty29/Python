{
  "nbformat": 4,
  "nbformat_minor": 0,
  "metadata": {
    "colab": {
      "provenance": [],
      "authorship_tag": "ABX9TyPqceum0Th+xkUt928t5IJ/",
      "include_colab_link": true
    },
    "kernelspec": {
      "name": "python3",
      "display_name": "Python 3"
    },
    "language_info": {
      "name": "python"
    }
  },
  "cells": [
    {
      "cell_type": "markdown",
      "metadata": {
        "id": "view-in-github",
        "colab_type": "text"
      },
      "source": [
        "<a href=\"https://colab.research.google.com/github/manishashetty29/Python/blob/main/STRING%20COMPRESSION/STRING%20COMPRESSION.ipynb\" target=\"_parent\"><img src=\"https://colab.research.google.com/assets/colab-badge.svg\" alt=\"Open In Colab\"/></a>"
      ]
    },
    {
      "cell_type": "code",
      "execution_count": 1,
      "metadata": {
        "colab": {
          "base_uri": "https://localhost:8080/"
        },
        "id": "gqRS3uY3_u8p",
        "outputId": "20b930db-7f0f-41d8-9b65-6f190f690162"
      },
      "outputs": [
        {
          "output_type": "stream",
          "name": "stdout",
          "text": [
            "a3b2c5a2\n"
          ]
        }
      ],
      "source": [
        "n = \"aaabbcccccaa\"\n",
        "c = 1\n",
        "res = \"\"\n",
        "for i in range(len(n) - 1):\n",
        "    if n[i] == n[i + 1]:\n",
        "        c += 1\n",
        "    else:\n",
        "        res = res + n[i] + str(c)\n",
        "        c = 1\n",
        "res = res + n[-1] + str(c)\n",
        "print(res)"
      ]
    },
    {
      "cell_type": "code",
      "source": [],
      "metadata": {
        "id": "rMpkK4Vc_8xe"
      },
      "execution_count": null,
      "outputs": []
    }
  ]
}