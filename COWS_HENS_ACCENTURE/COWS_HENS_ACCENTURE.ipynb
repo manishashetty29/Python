{
  "nbformat": 4,
  "nbformat_minor": 0,
  "metadata": {
    "colab": {
      "provenance": [],
      "authorship_tag": "ABX9TyPKB9b4Ir+z3fpPEGdCykmL",
      "include_colab_link": true
    },
    "kernelspec": {
      "name": "python3",
      "display_name": "Python 3"
    },
    "language_info": {
      "name": "python"
    }
  },
  "cells": [
    {
      "cell_type": "markdown",
      "metadata": {
        "id": "view-in-github",
        "colab_type": "text"
      },
      "source": [
        "<a href=\"https://colab.research.google.com/github/manishashetty29/Python/blob/main/COWS_HENS_ACCENTURE/COWS_HENS_ACCENTURE.ipynb\" target=\"_parent\"><img src=\"https://colab.research.google.com/assets/colab-badge.svg\" alt=\"Open In Colab\"/></a>"
      ]
    },
    {
      "cell_type": "code",
      "execution_count": 1,
      "metadata": {
        "colab": {
          "base_uri": "https://localhost:8080/"
        },
        "id": "Ag2qrlAaDkse",
        "outputId": "5218561f-bfce-4365-a26a-9b5803e5af7c"
      },
      "outputs": [
        {
          "output_type": "stream",
          "name": "stdout",
          "text": [
            "enter the head10\n",
            "enter the legs28\n",
            "no solution\n"
          ]
        }
      ],
      "source": [
        "legs = int(input(\"enter the head\"))\n",
        "heads = int(input(\"enter the legs\"))\n",
        "flag = False\n",
        "for hen in range(heads):\n",
        "    cow = heads - hen\n",
        "    if(cow * 4 + hen * 2 == legs):\n",
        "        print(\"cow:\", cow)\n",
        "        print(\"hens:\", hen)\n",
        "        flag = True\n",
        "        break\n",
        "if(not flag):\n",
        "    print(\"no solution\")\n"
      ]
    },
    {
      "cell_type": "code",
      "source": [],
      "metadata": {
        "id": "tqVYxZGdDmAx"
      },
      "execution_count": null,
      "outputs": []
    }
  ]
}