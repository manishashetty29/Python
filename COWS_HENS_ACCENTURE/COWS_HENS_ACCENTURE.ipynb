{
  "nbformat": 4,
  "nbformat_minor": 0,
  "metadata": {
    "colab": {
      "provenance": [],
      "include_colab_link": true
    },
    "kernelspec": {
      "name": "python3",
      "display_name": "Python 3"
    },
    "language_info": {
      "name": "python"
    }
  },
  "cells": [
    {
      "cell_type": "markdown",
      "metadata": {
        "id": "view-in-github",
        "colab_type": "text"
      },
      "source": [
        "<a href=\"https://colab.research.google.com/github/manishashetty29/Python/blob/main/COWS_HENS_ACCENTURE/COWS_HENS_ACCENTURE.ipynb\" target=\"_parent\"><img src=\"https://colab.research.google.com/assets/colab-badge.svg\" alt=\"Open In Colab\"/></a>"
      ]
    },
    {
      "cell_type": "code",
      "execution_count": 2,
      "metadata": {
        "colab": {
          "base_uri": "https://localhost:8080/"
        },
        "id": "Ag2qrlAaDkse",
        "outputId": "a584740d-4e35-4312-cc32-9d4fa39d1685"
      },
      "outputs": [
        {
          "output_type": "stream",
          "name": "stdout",
          "text": [
            "enter the number of heads10\n",
            "enetr the number of legs28\n",
            "cows 4\n",
            "hens 6\n"
          ]
        }
      ],
      "source": [
        "h=int(input(\"enter the number of heads\"))\n",
        "l=int(input(\"enetr the number of legs\"))\n",
        "flag=False\n",
        "for hen in range(h):\n",
        "    cow=h-hen\n",
        "    if(cow*4 + hen*2 == l):\n",
        "        print(\"cows\",cow)\n",
        "        print(\"hens\",hen)\n",
        "        flag=True\n",
        "        break\n",
        "if(not flag):\n",
        "    print(\"no solution\")\n"
      ]
    },
    {
      "cell_type": "code",
      "source": [],
      "metadata": {
        "id": "tqVYxZGdDmAx"
      },
      "execution_count": null,
      "outputs": []
    }
  ]
}