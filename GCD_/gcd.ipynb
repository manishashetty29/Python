{
  "nbformat": 4,
  "nbformat_minor": 0,
  "metadata": {
    "colab": {
      "provenance": [],
      "authorship_tag": "ABX9TyNqh1Jvivy0xQG9TR/iPRnL",
      "include_colab_link": true
    },
    "kernelspec": {
      "name": "python3",
      "display_name": "Python 3"
    },
    "language_info": {
      "name": "python"
    }
  },
  "cells": [
    {
      "cell_type": "markdown",
      "metadata": {
        "id": "view-in-github",
        "colab_type": "text"
      },
      "source": [
        "<a href=\"https://colab.research.google.com/github/manishashetty29/Python/blob/main/GCD_/gcd.ipynb\" target=\"_parent\"><img src=\"https://colab.research.google.com/assets/colab-badge.svg\" alt=\"Open In Colab\"/></a>"
      ]
    },
    {
      "cell_type": "code",
      "execution_count": 2,
      "metadata": {
        "colab": {
          "base_uri": "https://localhost:8080/"
        },
        "id": "hpfw59_z6jNP",
        "outputId": "707053fe-17fc-4a10-ed80-fe0f0bcf4b2a"
      },
      "outputs": [
        {
          "output_type": "stream",
          "name": "stdout",
          "text": [
            "Enter first number: 25\n",
            "Enter second number: 16\n",
            "The GCD of 25 and 16 is 1\n"
          ]
        }
      ],
      "source": [
        "num1 = int(input(\"Enter first number: \"))\n",
        "num2 = int(input(\"Enter second number: \"))\n",
        "gcd = 1\n",
        "if num1 < num2:\n",
        "  smaller = num1\n",
        "else:\n",
        "  smaller = num2\n",
        "for i in range(1, smaller + 1):\n",
        "  if num1 % i == 0 and num2 % i == 0:\n",
        "    gcd = i\n",
        "print(\"The GCD of\", num1, \"and\", num2, \"is\", gcd)"
      ]
    },
    {
      "cell_type": "code",
      "source": [],
      "metadata": {
        "id": "pG8wmyZK6viJ"
      },
      "execution_count": null,
      "outputs": []
    }
  ]
}