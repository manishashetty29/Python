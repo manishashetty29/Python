{
  "nbformat": 4,
  "nbformat_minor": 0,
  "metadata": {
    "colab": {
      "provenance": [],
      "authorship_tag": "ABX9TyPS1lIgna0vcd4vUeI8geRt",
      "include_colab_link": true
    },
    "kernelspec": {
      "name": "python3",
      "display_name": "Python 3"
    },
    "language_info": {
      "name": "python"
    }
  },
  "cells": [
    {
      "cell_type": "markdown",
      "metadata": {
        "id": "view-in-github",
        "colab_type": "text"
      },
      "source": [
        "<a href=\"https://colab.research.google.com/github/manishashetty29/Python/blob/main/PASSWORD/PASSWORD.ipynb\" target=\"_parent\"><img src=\"https://colab.research.google.com/assets/colab-badge.svg\" alt=\"Open In Colab\"/></a>"
      ]
    },
    {
      "cell_type": "code",
      "execution_count": 1,
      "metadata": {
        "colab": {
          "base_uri": "https://localhost:8080/"
        },
        "id": "DdS2Sf-iia13",
        "outputId": "0d3054b8-fcdc-43c0-d9b4-c52b254fbec8"
      },
      "outputs": [
        {
          "output_type": "stream",
          "name": "stdout",
          "text": [
            "Enter the password: abcD3456#\n",
            "Good password\n"
          ]
        }
      ],
      "source": [
        "a = input(\"Enter the password: \")\n",
        "\n",
        "sp = 0  # special characters\n",
        "up = 0  # uppercase\n",
        "lw = 0  # lowercase\n",
        "dg = 0  # digits\n",
        "\n",
        "if len(a) > 7:\n",
        "    for i in a:\n",
        "        if i.isupper():\n",
        "            up =up+ 1\n",
        "        elif i.islower():\n",
        "            lw =lw + 1\n",
        "        elif i.isdigit():\n",
        "            dg = dg+ 1\n",
        "        else:\n",
        "            sp = sp + 1\n",
        "\n",
        "    if dg > 0 and lw > 0 and up > 0 and sp > 0:\n",
        "        print(\"Good password\")\n",
        "    else:\n",
        "        print(\"Bad password: missing character types\")\n",
        "else:\n",
        "    print(\"Bad password: less than 8 characters\")\n"
      ]
    },
    {
      "cell_type": "code",
      "source": [],
      "metadata": {
        "id": "4ROjFV-xi3q_"
      },
      "execution_count": null,
      "outputs": []
    }
  ]
}