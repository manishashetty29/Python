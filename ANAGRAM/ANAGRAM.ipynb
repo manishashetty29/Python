{
  "nbformat": 4,
  "nbformat_minor": 0,
  "metadata": {
    "colab": {
      "provenance": [],
      "authorship_tag": "ABX9TyOOic6pu2kv3pgGXfVIY/cy",
      "include_colab_link": true
    },
    "kernelspec": {
      "name": "python3",
      "display_name": "Python 3"
    },
    "language_info": {
      "name": "python"
    }
  },
  "cells": [
    {
      "cell_type": "markdown",
      "metadata": {
        "id": "view-in-github",
        "colab_type": "text"
      },
      "source": [
        "<a href=\"https://colab.research.google.com/github/manishashetty29/Python/blob/main/ANAGRAM/ANAGRAM.ipynb\" target=\"_parent\"><img src=\"https://colab.research.google.com/assets/colab-badge.svg\" alt=\"Open In Colab\"/></a>"
      ]
    },
    {
      "cell_type": "code",
      "execution_count": 3,
      "metadata": {
        "colab": {
          "base_uri": "https://localhost:8080/"
        },
        "id": "1_2phlNghG21",
        "outputId": "18e70bf4-8481-4371-8cc4-bb22eebd9a17"
      },
      "outputs": [
        {
          "output_type": "stream",
          "name": "stdout",
          "text": [
            "Enter string 1:  Listen\n",
            "Enter string 2: silent\n",
            "It is anagram\n"
          ]
        }
      ],
      "source": [
        "str1 = input(\"Enter string 1: \")\n",
        "str2 = input(\"Enter string 2: \")\n",
        "\n",
        "a = str1.lower()\n",
        "b = str2.lower()\n",
        "\n",
        "a1 = \"\".join(i for i in a if i != \" \")  # remove spaces\n",
        "b1 = \"\".join(i for i in b if i != \" \")\n",
        "\n",
        "a2 = sorted(a1)\n",
        "b2 = sorted(b1)\n",
        "\n",
        "if a2 == b2:\n",
        "    print(\"It is anagram\")\n",
        "else:\n",
        "    print(\"It is not anagram\")  # fixed this line\n"
      ]
    },
    {
      "cell_type": "code",
      "source": [],
      "metadata": {
        "id": "sVFhlO9ghIC3"
      },
      "execution_count": null,
      "outputs": []
    }
  ]
}